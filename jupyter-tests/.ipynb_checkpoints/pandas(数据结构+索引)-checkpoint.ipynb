{
 "cells": [
  {
   "cell_type": "code",
   "execution_count": 3,
   "metadata": {},
   "outputs": [
    {
     "name": "stdout",
     "output_type": "stream",
     "text": [
      "0    1.0\n",
      "1    2.0\n",
      "2    3.0\n",
      "3    NaN\n",
      "4    5.0\n",
      "5    6.0\n",
      "dtype: float64\n"
     ]
    }
   ],
   "source": [
    "import pandas as pd\n",
    "import numpy as np\n",
    "df = pd.Series([1,2,3,np.nan,5,6])\n",
    "print(df)"
   ]
  },
  {
   "cell_type": "code",
   "execution_count": 10,
   "metadata": {},
   "outputs": [
    {
     "name": "stdout",
     "output_type": "stream",
     "text": [
      "DatetimeIndex(['2018-08-01', '2018-08-02', '2018-08-03', '2018-08-04',\n",
      "               '2018-08-05', '2018-08-06', '2018-08-07'],\n",
      "              dtype='datetime64[ns]', freq='D')\n",
      "                   A         B         C         D\n",
      "2018-08-01  1.777805  0.776195 -0.656230  0.324591\n",
      "2018-08-02  0.271853 -1.166014 -0.173967 -0.138403\n",
      "2018-08-03  0.229436  0.370218  1.485208  0.672754\n",
      "2018-08-04 -1.670728 -0.955765  1.385641  0.098218\n",
      "2018-08-05  0.031858 -0.336824 -1.314662 -0.413031\n",
      "2018-08-06  0.739657 -0.598328  1.705194  0.820855\n",
      "2018-08-07 -0.410488  0.880511 -0.229817  0.474315\n",
      "              A         B         C         D\n",
      "count  7.000000  7.000000  7.000000  7.000000\n",
      "mean   0.138485 -0.147144  0.314481  0.262757\n",
      "std    1.053631  0.827426  1.196056  0.442124\n",
      "min   -1.670728 -1.166014 -1.314662 -0.413031\n",
      "25%   -0.189315 -0.777047 -0.443024 -0.020093\n",
      "50%    0.229436 -0.336824 -0.173967  0.324591\n",
      "75%    0.505755  0.573206  1.435424  0.573534\n",
      "max    1.777805  0.880511  1.705194  0.820855\n"
     ]
    }
   ],
   "source": [
    "import pandas as pd\n",
    "import numpy as np\n",
    "\n",
    "dates = pd.date_range('20180801',periods=7)\n",
    "print(dates)\n",
    "\n",
    "df = pd.DataFrame(np.random.randn(7,4),index=dates,columns=list('ABCD'))\n",
    "print(df)\n",
    "print(df.describe())"
   ]
  },
  {
   "cell_type": "code",
   "execution_count": 14,
   "metadata": {},
   "outputs": [
    {
     "name": "stdout",
     "output_type": "stream",
     "text": [
      "[ 0  1  2  3  4  5  6  7  8  9 10 11]\n",
      "<class 'numpy.ndarray'>\n",
      "0      0\n",
      "1      1\n",
      "2      2\n",
      "3      3\n",
      "4      4\n",
      "5      5\n",
      "6      6\n",
      "7      7\n",
      "8      8\n",
      "9      9\n",
      "10    10\n",
      "11    11\n",
      "dtype: int32\n",
      "<class 'pandas.core.series.Series'>\n"
     ]
    }
   ],
   "source": [
    "#通过一维数组创建序列\n",
    "import pandas as pd\n",
    "import numpy as np\n",
    "\n",
    "arr1 = np.arange(12)\n",
    "print(arr1)\n",
    "print(type(arr1))\n",
    "\n",
    "df = pd.Series(arr1)\n",
    "print(df)\n",
    "print(type(df))\n"
   ]
  },
  {
   "cell_type": "code",
   "execution_count": 35,
   "metadata": {},
   "outputs": [
    {
     "name": "stdout",
     "output_type": "stream",
     "text": [
      "{'a': 10, 'b': 20, 'c': 30, 'd': 40}\n",
      "<class 'dict'>\n",
      "a    10\n",
      "b    20\n",
      "c    30\n",
      "d    40\n",
      "dtype: int64\n",
      "<class 'pandas.core.series.Series'>\n"
     ]
    }
   ],
   "source": [
    "#通过字典的方式创建序列\n",
    "import pandas as pd\n",
    "\n",
    "dic1 = {'a':10,'b':20,'c':30,'d':40}\n",
    "print(dic1)\n",
    "print(type(dic1))\n",
    "\n",
    "df = pd.Series(dic1)\n",
    "print(df)\n",
    "print(type(df))"
   ]
  },
  {
   "cell_type": "code",
   "execution_count": 37,
   "metadata": {},
   "outputs": [
    {
     "name": "stdout",
     "output_type": "stream",
     "text": [
      "[[ 0  1  2]\n",
      " [ 3  4  5]\n",
      " [ 6  7  8]\n",
      " [ 9 10 11]]\n",
      "<class 'numpy.ndarray'>\n",
      "   0   1   2\n",
      "0  0   1   2\n",
      "1  3   4   5\n",
      "2  6   7   8\n",
      "3  9  10  11\n",
      "<class 'pandas.core.frame.DataFrame'>\n"
     ]
    }
   ],
   "source": [
    "#通过二维数组创建数据框\n",
    "import pandas as pd\n",
    "import numpy as np\n",
    "\n",
    "arr2 = np.array(range(12)).reshape(4,3)\n",
    "print(arr2)\n",
    "print(type(arr2))\n",
    "\n",
    "df = pd.DataFrame(arr2)\n",
    "print(df)\n",
    "print(type(df))"
   ]
  },
  {
   "cell_type": "code",
   "execution_count": 38,
   "metadata": {},
   "outputs": [
    {
     "name": "stdout",
     "output_type": "stream",
     "text": [
      "{'a': [1, 2, 3, 4], 'b': [5, 6, 7, 8], 'c': [9, 10, 11, 12], 'd': [13, 14, 15, 16]}\n",
      "<class 'dict'>\n",
      "   a  b   c   d\n",
      "0  1  5   9  13\n",
      "1  2  6  10  14\n",
      "2  3  7  11  15\n",
      "3  4  8  12  16\n",
      "<class 'pandas.core.frame.DataFrame'>\n"
     ]
    }
   ],
   "source": [
    "#通过字典的方式创建数据框，字典列表\n",
    "import pandas as pd\n",
    "\n",
    "dic2 = {'a':[1,2,3,4],'b':[5,6,7,8],'c':[9,10,11,12],'d':[13,14,15,16]}\n",
    "print(dic2)\n",
    "print(type(dic2))\n",
    "\n",
    "df = pd.DataFrame(dic2)\n",
    "print(df)\n",
    "print(type(df))"
   ]
  },
  {
   "cell_type": "code",
   "execution_count": 39,
   "metadata": {},
   "outputs": [
    {
     "name": "stdout",
     "output_type": "stream",
     "text": [
      "{'one': {'a': 1, 'b': 2, 'c': 3, 'd': 4}, 'two': {'a': 5, 'b': 6, 'c': 7, 'd': 8}, 'three': {'a': 9, 'b': 10, 'c': 11, 'd': 12}}\n",
      "<class 'dict'>\n",
      "   one  two  three\n",
      "a    1    5      9\n",
      "b    2    6     10\n",
      "c    3    7     11\n",
      "d    4    8     12\n",
      "<class 'pandas.core.frame.DataFrame'>\n"
     ]
    }
   ],
   "source": [
    "#通过数据框的方式创建数据框，嵌套字典\n",
    "import pandas as pd\n",
    "\n",
    "dic3 = {'one':{'a':1,'b':2,'c':3,'d':4},'two':{'a':5,'b':6,'c':7,'d':8},'three':{'a':9,'b':10,'c':11,'d':12}}\n",
    "print(dic3)\n",
    "print(type(dic3))\n",
    "\n",
    "df = pd.DataFrame(dic3)\n",
    "print(df)\n",
    "print(type(df))"
   ]
  },
  {
   "cell_type": "code",
   "execution_count": 41,
   "metadata": {},
   "outputs": [
    {
     "name": "stdout",
     "output_type": "stream",
     "text": [
      "{'one': {'a': 1, 'b': 2, 'c': 3, 'd': 4}, 'two': {'a': 5, 'b': 6, 'c': 7, 'd': 8}, 'three': {'a': 9, 'b': 10, 'c': 11, 'd': 12}}\n",
      "<class 'dict'>\n",
      "   one  two  three\n",
      "a    1    5      9\n",
      "b    2    6     10\n",
      "c    3    7     11\n",
      "d    4    8     12\n",
      "<class 'pandas.core.frame.DataFrame'>\n",
      "   one  two\n",
      "a    1    5\n",
      "b    2    6\n",
      "c    3    7\n",
      "d    4    8\n",
      "<class 'pandas.core.frame.DataFrame'>\n"
     ]
    }
   ],
   "source": [
    "#通过数据框的方式创建数据框\n",
    "import pandas as pd\n",
    "\n",
    "dic3 = {'one':{'a':1,'b':2,'c':3,'d':4},'two':{'a':5,'b':6,'c':7,'d':8},'three':{'a':9,'b':10,'c':11,'d':12}}\n",
    "print(dic3)\n",
    "print(type(dic3))\n",
    "\n",
    "df = pd.DataFrame(dic3)\n",
    "print(df)\n",
    "print(type(df))\n",
    "\n",
    "df2 = df[['one','two']]\n",
    "print(df2)\n",
    "print(type(df2))\n",
    "\n",
    "\n"
   ]
  },
  {
   "cell_type": "code",
   "execution_count": 45,
   "metadata": {},
   "outputs": [
    {
     "name": "stdout",
     "output_type": "stream",
     "text": [
      "0    1\n",
      "1    1\n",
      "2    2\n",
      "3    3\n",
      "4    5\n",
      "5    8\n",
      "dtype: int32\n",
      "RangeIndex(start=0, stop=6, step=1)\n",
      "a    1\n",
      "b    1\n",
      "c    2\n",
      "d    3\n",
      "e    5\n",
      "f    8\n",
      "dtype: int32\n",
      "3\n",
      "5\n",
      "b    1\n",
      "d    3\n",
      "f    8\n",
      "dtype: int32\n",
      "a    1\n",
      "b    1\n",
      "d    3\n",
      "f    8\n",
      "dtype: int32\n",
      "a    1\n",
      "b    1\n",
      "c    2\n",
      "d    3\n",
      "dtype: int32\n",
      "c    2\n",
      "d    3\n",
      "e    5\n",
      "f    8\n",
      "dtype: int32\n",
      "b    1\n",
      "c    2\n",
      "d    3\n",
      "e    5\n",
      "dtype: int32\n"
     ]
    }
   ],
   "source": [
    "#通过索引值或索引标签获取数据\n",
    "#如果通过索引标签获取数据的话，末端标签所对应的值是可以返回的！在一维数组中，就无法通过索引标签获取数据，这也是序列不同于一维数组的一个方面\n",
    "import numpy as np\n",
    "\n",
    "df = pd.Series(np.array([1,1,2,3,5,8]))\n",
    "print(df)\n",
    "print(df.index)\n",
    "\n",
    "df.index = ['a','b','c','d','e','f']\n",
    "print(df)\n",
    "\n",
    "print(df[3])\n",
    "print(df['e'])\n",
    "print(df[[1,3,5]])\n",
    "print(df[['a','b','d','f']])\n",
    "print(df[:4])\n",
    "print(df['c':])\n",
    "print(df['b':'e'])"
   ]
  },
  {
   "cell_type": "code",
   "execution_count": 48,
   "metadata": {},
   "outputs": [
    {
     "name": "stdout",
     "output_type": "stream",
     "text": [
      "a     4.0\n",
      "b    11.0\n",
      "d    11.0\n",
      "e    10.0\n",
      "f     NaN\n",
      "g     NaN\n",
      "dtype: float64\n"
     ]
    }
   ],
   "source": [
    "#自动化对齐\n",
    "import pandas as pd\n",
    "import numpy as np\n",
    "\n",
    "df1 = pd.Series(np.array([1,2,3,4,5]))\n",
    "df1.index = ['a','b','d','e','f']\n",
    "\n",
    "df2 = pd.Series(np.array([3,4,6,8,9]))\n",
    "df2.index = ['a','g','e','d','b']\n",
    "\n",
    "print(df1+df2)"
   ]
  },
  {
   "cell_type": "code",
   "execution_count": null,
   "metadata": {},
   "outputs": [],
   "source": []
  }
 ],
 "metadata": {
  "kernelspec": {
   "display_name": "Python 3",
   "language": "python",
   "name": "python3"
  },
  "language_info": {
   "codemirror_mode": {
    "name": "ipython",
    "version": 3
   },
   "file_extension": ".py",
   "mimetype": "text/x-python",
   "name": "python",
   "nbconvert_exporter": "python",
   "pygments_lexer": "ipython3",
   "version": "3.6.5"
  }
 },
 "nbformat": 4,
 "nbformat_minor": 2
}
