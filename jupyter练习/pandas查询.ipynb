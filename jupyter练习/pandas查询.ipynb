{
 "cells": [
  {
   "cell_type": "code",
   "execution_count": 108,
   "metadata": {},
   "outputs": [
    {
     "name": "stdout",
     "output_type": "stream",
     "text": [
      "               总金额\n",
      "count    16.000000\n",
      "mean   3302.687500\n",
      "std    1301.145276\n",
      "min    2199.000000\n",
      "25%    2636.500000\n",
      "50%    2899.000000\n",
      "75%    3274.000000\n",
      "max    7299.000000\n",
      "                      订单编号           买家会员名     总金额\n",
      "0    =\"194296183526754665\"  laoshuzuizhuai  3649.0\n",
      "9    =\"194241888720392555\"     virginkiss7  2950.0\n",
      "17   =\"194216296075393484\"     windycc1987  2199.0\n",
      "38   =\"194116171081146573\"      tb99336055  2249.0\n",
      "42   =\"194066356799546069\"             凤儿、  2449.0\n",
      "57   =\"193880998767587247\"          yf0033  2699.0\n",
      "60   =\"193946183035840246\"  fdc15807256033  2798.0\n",
      "80   =\"193768719297058843\"       茉莉清茶和茉莉密茶  3139.0\n",
      "83   =\"197409489471664629\"       爱淘淘199001  2899.0\n",
      "86   =\"193730748043410750\"          蓝色云朵yl  4839.0\n",
      "94   =\"193612029367742979\"     lijia663250  2899.0\n",
      "132  =\"193405558427301690\"            恁牛逼唉  2298.0\n",
      "143  =\"197047084470021823\"     chenyan8505  7299.0\n",
      "151  =\"197253754854247901\"         zslhwxa  3149.0\n",
      "157  =\"193244556416818282\"         银河流动的星空  2799.0\n",
      "169  =\"193191695913651284\"           李4995  4529.0\n"
     ]
    }
   ],
   "source": [
    "import pandas as pd\n",
    "\n",
    "#导入一个student数据集\n",
    "student = pd.io.parsers.read_csv('C:\\\\Users\\\\x\\\\Desktop\\\\student.csv',encoding = 'gbk')\n",
    "\n",
    "#查询数据的前5行和末尾5行\n",
    "fist5 = student.head()\n",
    "last5 = student.tail()\n",
    "\n",
    "t = student.loc[:,['订单编号','买家会员名']]\n",
    "data = student[(student['订单状态']=='交易成功')&(student['总金额']>2000)][['订单编号','买家会员名','总金额']]\n",
    "print(data.describe(include=['number']))\n",
    "print(data)"
   ]
  },
  {
   "cell_type": "code",
   "execution_count": 100,
   "metadata": {},
   "outputs": [
    {
     "name": "stdout",
     "output_type": "stream",
     "text": [
      "Empty DataFrame\n",
      "Columns: [A, B, C, D]\n",
      "Index: []\n"
     ]
    }
   ],
   "source": [
    "import pandas as pd\n",
    "import numpy as np\n",
    "df = pd.DataFrame(np.random.randn(8, 4), columns = ['A', 'B', 'C', 'D'])\n",
    "print (df[2:2])"
   ]
  },
  {
   "cell_type": "code",
   "execution_count": 80,
   "metadata": {},
   "outputs": [
    {
     "name": "stdout",
     "output_type": "stream",
     "text": [
      "   A  B   C   D\n",
      "a  0  1   2   3\n",
      "b  4  5   6   7\n",
      "c  8  9  10  11\n",
      "A    0\n",
      "B    1\n",
      "C    2\n",
      "D    3\n",
      "Name: a, dtype: int32\n"
     ]
    }
   ],
   "source": [
    "# loc、iloc、ix的区别\n",
    "import pandas as pd\n",
    "import numpy as np\n",
    "df = pd.DataFrame(np.arange(12).reshape(3,4),index = ['a','b','c'],columns = ['A', 'B', 'C', 'D'])\n",
    "print (df)\n",
    "\n",
    "#分别使用loc、iloc、ix 索引第一行的数据\n",
    "print(df.loc['a'])\n",
    "print(df.iloc[0])\n",
    "print(df.ix[0])\n",
    "print(df.ix['a'])\n",
    "\n",
    "#分别使用loc、iloc、ix 索引第一列的数据\n",
    "print(df.loc[:,'A'])\n",
    "print(df.iloc[:,0])\n",
    "print(df.ix[:,'A'])\n",
    "print(df.ix[:,0])\n",
    "\n",
    "#分别使用loc、iloc、ix 索引多行的数据\n",
    "print(df.loc['a':'c'])\n",
    "print(df.iloc[0:3])\n",
    "print(df.ix['a':'c'])\n",
    "print(df.ix[0:3])\n",
    "\n",
    "#分别使用loc、iloc、ix 索引多列的数据\n",
    "print(df.loc[:,['A','C']])\n",
    "print(df.loc[:,'A':'C'])\n",
    "print(df.iloc[:,[0,3]])\n",
    "print(df.iloc[:,0:3])\n",
    "print(df.ix[:,['A','C']])\n",
    "print(df.ix[:,'A':'C'])\n",
    "print(df.ix[:,[0,3]])\n",
    "print(df.ix[:,0:3])"
   ]
  },
  {
   "cell_type": "code",
   "execution_count": 93,
   "metadata": {},
   "outputs": [
    {
     "name": "stdout",
     "output_type": "stream",
     "text": [
      "[0.4359949  0.02592623 0.54966248 0.43532239]\n"
     ]
    }
   ],
   "source": [
    "import numpy as np\n",
    "t = np.random.seed(2)\n",
    "print(np.random.rand(4))"
   ]
  },
  {
   "cell_type": "code",
   "execution_count": 124,
   "metadata": {},
   "outputs": [
    {
     "name": "stdout",
     "output_type": "stream",
     "text": [
      "None\n"
     ]
    }
   ],
   "source": []
  },
  {
   "cell_type": "code",
   "execution_count": null,
   "metadata": {},
   "outputs": [],
   "source": []
  },
  {
   "cell_type": "code",
   "execution_count": null,
   "metadata": {},
   "outputs": [],
   "source": []
  }
 ],
 "metadata": {
  "kernelspec": {
   "display_name": "Python 3",
   "language": "python",
   "name": "python3"
  },
  "language_info": {
   "codemirror_mode": {
    "name": "ipython",
    "version": 3
   },
   "file_extension": ".py",
   "mimetype": "text/x-python",
   "name": "python",
   "nbconvert_exporter": "python",
   "pygments_lexer": "ipython3",
   "version": "3.6.5"
  }
 },
 "nbformat": 4,
 "nbformat_minor": 2
}
